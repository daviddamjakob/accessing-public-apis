{
 "cells": [
  {
   "cell_type": "markdown",
   "metadata": {},
   "source": [
    "# Twitter API with Post & Get\n",
    "\n",
    "Twitter Developer Account: https://developer.twitter.com/\n",
    "\n",
    "API Reference: https://developer.twitter.com/en/docs"
   ]
  },
  {
   "cell_type": "code",
   "execution_count": null,
   "metadata": {},
   "outputs": [],
   "source": [
    "# conda install request\n",
    "# pip install json\n",
    "import requests \n",
    "import json"
   ]
  },
  {
   "cell_type": "markdown",
   "metadata": {},
   "source": [
    "## Authorization - Part 1\n",
    "\n",
    "To generate the authorization token, follow the instructions below:\n",
    "\n",
    "### Step 1:\n",
    "\n",
    "* Create Twitter Account: http://twitter.com\n",
    "* Create a Twitter Developer Account: https://developer.twitter.com/\n",
    "\n",
    "### Step 2:\n",
    "\n",
    "Once the developer account has been approved sign in to https://developer.twitter.com/. Click on you profile and select \"Apps\"\n",
    "\n",
    "![images/twitter1.PNG](images/twitter1.PNG)\n",
    "\n",
    "![images/twitter2.PNG](images/twitter2.PNG)\n",
    "\n",
    "![images/twitter3.PNG](images/twitter3.PNG)\n",
    "\n",
    "![images/twitter5.PNG](images/twitter5.PNG)\n",
    "\n",
    "![images/twitter6.PNG](images/twitter6.PNG)\n",
    "\n"
   ]
  },
  {
   "cell_type": "code",
   "execution_count": null,
   "metadata": {},
   "outputs": [],
   "source": [
    "# Get tweets by search string\n",
    "\n",
    "baerer_token=\"xxx\"\n",
    "\n",
    "api_endpoint = \"https://api.twitter.com/1.1/search/tweets.json\"\n",
    "params={'q':\"python\", \"result_type\":\"popular\",\"count\":10}\n",
    "#auth=\"Bearer\"+\" \"+y[\"access_token\"]\n",
    "auth=\"Bearer \"+baerer_token\n",
    "\n",
    "\n",
    "headers = {'content-type': 'application/json', \n",
    "           'authorization':  auth\n",
    "          }\n",
    "\n",
    "r = requests.get(url = api_endpoint, headers=headers,params=params) \n",
    "r.json()\n",
    "\n"
   ]
  },
  {
   "cell_type": "markdown",
   "metadata": {},
   "source": [
    "# Twitter API via a library\n",
    "\n",
    "API Reference: https://python-twitter.readthedocs.io/en/latest/"
   ]
  },
  {
   "cell_type": "code",
   "execution_count": null,
   "metadata": {},
   "outputs": [],
   "source": [
    "# pip install python-twitter\n",
    "import twitter"
   ]
  },
  {
   "cell_type": "code",
   "execution_count": null,
   "metadata": {},
   "outputs": [],
   "source": [
    "#Do not mess around with those keys\n",
    "\n",
    "CONSUMER_KEY = \"xxx\"\n",
    "CONSUMER_SECRET = \"xxx\"\n",
    "\n",
    "ACCESS_TOKEN = \"xxx\"\n",
    "ACCESS_SECRET = \"xxx\"\n",
    "\n",
    "t = twitter.Api(consumer_key=CONSUMER_KEY,consumer_secret=CONSUMER_SECRET,access_token_key=ACCESS_TOKEN, access_token_secret=ACCESS_SECRET)"
   ]
  },
  {
   "cell_type": "code",
   "execution_count": null,
   "metadata": {},
   "outputs": [],
   "source": [
    "results = t.GetSearch(term=\"merkel\", count=10,result_type=\"recent\")\n",
    "results"
   ]
  },
  {
   "cell_type": "code",
   "execution_count": null,
   "metadata": {},
   "outputs": [],
   "source": [
    "for tweet in results:\n",
    "    print(\"Screen name: \"+tweet.user.screen_name)\n",
    "    print(\"Text: \"+tweet.text)"
   ]
  },
  {
   "cell_type": "code",
   "execution_count": null,
   "metadata": {},
   "outputs": [],
   "source": [
    "status = t.PostUpdate('I love python-twitter!')"
   ]
  },
  {
   "cell_type": "code",
   "execution_count": null,
   "metadata": {},
   "outputs": [],
   "source": []
  }
 ],
 "metadata": {
  "kernelspec": {
   "display_name": "Python 3",
   "language": "python",
   "name": "python3"
  },
  "language_info": {
   "codemirror_mode": {
    "name": "ipython",
    "version": 3
   },
   "file_extension": ".py",
   "mimetype": "text/x-python",
   "name": "python",
   "nbconvert_exporter": "python",
   "pygments_lexer": "ipython3",
   "version": "3.8.5"
  }
 },
 "nbformat": 4,
 "nbformat_minor": 4
}
