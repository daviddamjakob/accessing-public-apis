{
 "cells": [
  {
   "cell_type": "markdown",
   "metadata": {},
   "source": [
    "# Working with JSON"
   ]
  },
  {
   "cell_type": "code",
   "execution_count": null,
   "metadata": {},
   "outputs": [],
   "source": [
    "# we can transform different Python objects directly to JSON\n",
    "# below shows string to JSOn conversion, array to Python conversion, dictionary list to Python conversion"
   ]
  },
  {
   "cell_type": "code",
   "execution_count": null,
   "metadata": {},
   "outputs": [],
   "source": [
    "import json"
   ]
  },
  {
   "cell_type": "code",
   "execution_count": null,
   "metadata": {},
   "outputs": [],
   "source": [
    "s='{\"a\":21, \"b\": {\"b2\": \"hello\", \"b1\": \"wold\"},\"c\": \"12\"}'"
   ]
  },
  {
   "cell_type": "code",
   "execution_count": null,
   "metadata": {},
   "outputs": [],
   "source": [
    "# Python string object has its own parameters\n",
    "dir(s)"
   ]
  },
  {
   "cell_type": "code",
   "execution_count": null,
   "metadata": {},
   "outputs": [],
   "source": [
    "# Convert a String into Json\n",
    "\n",
    "s='{\"a\":21, \"b\": {\"b2\": \"hello\", \"b1\": \"wold\"},\"c\": \"12\"}'\n",
    "j = json.loads(s)\n",
    "print(j)"
   ]
  },
  {
   "cell_type": "code",
   "execution_count": null,
   "metadata": {},
   "outputs": [],
   "source": [
    "# JSON object has its own parameters\n",
    "dir(j)"
   ]
  },
  {
   "cell_type": "code",
   "execution_count": null,
   "metadata": {
    "scrolled": true
   },
   "outputs": [],
   "source": [
    "# Prettyfy the JSON Object\n",
    "print(json.dumps(j, indent=2))"
   ]
  },
  {
   "cell_type": "code",
   "execution_count": null,
   "metadata": {},
   "outputs": [],
   "source": [
    "y=j[\"b\"]\n",
    "print(y)"
   ]
  },
  {
   "cell_type": "code",
   "execution_count": null,
   "metadata": {},
   "outputs": [],
   "source": [
    "# Access nested json objects \n",
    "y=j[\"b\"]\n",
    "print(y[\"b2\"])"
   ]
  },
  {
   "cell_type": "code",
   "execution_count": null,
   "metadata": {},
   "outputs": [],
   "source": [
    "# Convert a Python object into JSON\n",
    "\n",
    "anotherObject = {\n",
    "    \"b1\":\"hello\",\n",
    "    \"b2\":\"world\"\n",
    "}\n",
    "\n",
    "anArray = [{\"name\":\"one\"},{\"name\":\"two\"}]\n",
    "\n",
    "x = {\n",
    "  \"a\": 12,\n",
    "  \"b\": anotherObject,\n",
    "  \"c\": \"12\",\n",
    "  \"d\": anArray  \n",
    "}\n",
    "y=json.dumps(x)\n",
    "y"
   ]
  },
  {
   "cell_type": "code",
   "execution_count": null,
   "metadata": {},
   "outputs": [],
   "source": [
    "print(json.dumps(x, indent=4))"
   ]
  }
 ],
 "metadata": {
  "kernelspec": {
   "display_name": "Python 3",
   "language": "python",
   "name": "python3"
  },
  "language_info": {
   "codemirror_mode": {
    "name": "ipython",
    "version": 3
   },
   "file_extension": ".py",
   "mimetype": "text/x-python",
   "name": "python",
   "nbconvert_exporter": "python",
   "pygments_lexer": "ipython3",
   "version": "3.8.5"
  }
 },
 "nbformat": 4,
 "nbformat_minor": 4
}
